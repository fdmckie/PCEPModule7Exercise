{
 "cells": [
  {
   "cell_type": "markdown",
   "metadata": {},
   "source": [
    "### Exercise 1\n",
    "Ask a user for 5 names and place each one in to a list called <i>names</i>. Then, print <i>names</i>."
   ]
  },
  {
   "cell_type": "code",
   "execution_count": 32,
   "metadata": {},
   "outputs": [
    {
     "name": "stdout",
     "output_type": "stream",
     "text": [
      "You will enter 5 names...\n",
      "Enter the 1st name:\n",
      ">Arthur\n",
      "Enter the 2nd name:\n",
      ">Kathy\n",
      "Enter the 3rd name:\n",
      ">Sia\n",
      "Enter the 4th name:\n",
      ">Pete\n",
      "Enter the 5th name:\n",
      ">Olya\n",
      "['Arthur', 'Kathy', 'Sia', 'Pete', 'Olya']\n"
     ]
    }
   ],
   "source": [
    "prompt = \">\"\n",
    "\n",
    "\n",
    "\n",
    "#user will enter 5 names\n",
    "print(\"You will enter 5 names...\")\n",
    "\n",
    "print(\"Enter the 1st name:\")\n",
    "name1 = input(prompt)\n",
    "\n",
    "print(\"Enter the 2nd name:\")\n",
    "name2 = input(prompt)\n",
    "\n",
    "print(\"Enter the 3rd name:\")\n",
    "name3 = input(prompt)\n",
    "\n",
    "print(\"Enter the 4th name:\")\n",
    "name4 = input(prompt)\n",
    "\n",
    "print(\"Enter the 5th name:\")\n",
    "name5 = input(prompt)\n",
    "\n",
    "#create a list that will store the names entered by the user\n",
    "names = []\n",
    "\n",
    "names.append(name1)\n",
    "names.append(name2)\n",
    "names.append(name3)\n",
    "names.append(name4)\n",
    "names.append(name5)\n",
    "\n",
    "\n",
    "print(names)\n",
    "\n"
   ]
  },
  {
   "cell_type": "markdown",
   "metadata": {},
   "source": [
    "### Exercise 2\n",
    "Print out a randomly selected name in the names list from exercise 1."
   ]
  },
  {
   "cell_type": "code",
   "execution_count": 44,
   "metadata": {},
   "outputs": [
    {
     "name": "stdout",
     "output_type": "stream",
     "text": [
      "Sia\n"
     ]
    }
   ],
   "source": [
    "import random as rand\n",
    "\n",
    "print(names[(rand.randint(0, 4))])"
   ]
  },
  {
   "cell_type": "markdown",
   "metadata": {},
   "source": [
    "### Exercise 3: \n",
    "Fix bugs in the next cell.  It is trying to create a list for even numbers between two numbers provided by a user.\n"
   ]
  },
  {
   "cell_type": "code",
   "execution_count": 47,
   "metadata": {},
   "outputs": [
    {
     "name": "stdout",
     "output_type": "stream",
     "text": [
      "Enter a starting number: -99\n",
      "Enter an ending number: -90\n",
      "[-99, -98, -97, -96, -95, -94, -93, -92, -91, -90]\n",
      "[-98, -96, -94, -92, -90]\n"
     ]
    }
   ],
   "source": [
    "no1 = int(input(\"Enter a starting number: \"))\n",
    "no2 = int(input(\"Enter an ending number: \"))\n",
    "\n",
    "numbers = []\n",
    "evens = []\n",
    "\n",
    "for i in range(no1, (no2 + 1)) :\n",
    "    numbers.append(i) \n",
    "\n",
    "    if (i%2 == 0) :   # even number    \n",
    "        evens.append(i)\n",
    "    \n",
    "print(numbers)    \n",
    "print(evens)"
   ]
  },
  {
   "cell_type": "markdown",
   "metadata": {},
   "source": [
    "### Exercise 4\n",
    "Finish writing a program to generate 10 random numbers between 1 and 100 and save it to a list.\n",
    "Finally, print out the original numbers followed by the smallest, largest, and average number."
   ]
  },
  {
   "cell_type": "code",
   "execution_count": 56,
   "metadata": {},
   "outputs": [
    {
     "name": "stdout",
     "output_type": "stream",
     "text": [
      "Org Numbers are [1, 76, 32, 75, 71, 55, 61, 51, 14, 8]\n",
      "Sorted numbers are [1, 8, 14, 32, 51, 55, 61, 71, 75, 76]\n",
      "Largest number is 76\n",
      "Smallest number is 1\n",
      "Average is  44.40\n"
     ]
    }
   ],
   "source": [
    "import random as rand\n",
    "\n",
    "numbers = []\n",
    "total = 0\n",
    "\n",
    "#count = 0\n",
    "\n",
    "\n",
    "\n",
    "\n",
    "#generate 10 random integers between 1 and 100\n",
    "for i in range(1, 11) :\n",
    "    numb = rand.randint(1, 100)\n",
    "    total += numb\n",
    "#    print(numb)\n",
    "    numbers.append(numb)\n",
    "\n",
    "#    count = count + 1\n",
    "    \n",
    "# some code needed here to find the smallest, largest, and average number\n",
    "    \n",
    "org_numbs = numbers.copy()\n",
    "numbers.sort()\n",
    "\n",
    "smallest = numbers[0]\n",
    "largest = numbers[9]\n",
    "\n",
    "avg = total / len(numbers)\n",
    "\n",
    "#avg1 = total / count\n",
    "\n",
    "\n",
    "#print results\n",
    "\n",
    "print(f\"Org Numbers are {org_numbs}\")\n",
    "print(f\"Sorted numbers are {numbers}\")\n",
    "print(f\"Largest number is {largest}\")\n",
    "print(f\"Smallest number is {smallest}\")\n",
    "print(f\"Average is {avg: .2f}\")\n",
    "#print(f\"Average is {avg1: .2f}\")"
   ]
  },
  {
   "cell_type": "markdown",
   "metadata": {},
   "source": [
    "### Exercise 5\n",
    "\n",
    "Write a function called <b>draw_triangle()</b> to draw a right triangle where the base of the triangle is the number passed in as an arguement. Call <b>draw_triangle()</b> to show it works.\n",
    "\n",
    "e.g. <b>draw_triangle(7)</b> draws as below:\n",
    "\n",
    "    *\n",
    "    **\n",
    "    ***\n",
    "    ****\n",
    "    *****\n",
    "    ******\n",
    "    *******\n"
   ]
  },
  {
   "cell_type": "code",
   "execution_count": 57,
   "metadata": {},
   "outputs": [],
   "source": [
    "# write code for draw_triangle() function\n",
    "def draw_triangle(num) :\n",
    "    line = \"*\" * num\n",
    "    \n",
    "    return line\n"
   ]
  },
  {
   "cell_type": "code",
   "execution_count": 58,
   "metadata": {},
   "outputs": [
    {
     "name": "stdout",
     "output_type": "stream",
     "text": [
      "Enter a number: 15\n",
      "*\n",
      "**\n",
      "***\n",
      "****\n",
      "*****\n",
      "******\n",
      "*******\n",
      "********\n",
      "*********\n",
      "**********\n",
      "***********\n",
      "************\n",
      "*************\n",
      "**************\n",
      "***************\n"
     ]
    }
   ],
   "source": [
    "base = int(input(\"Enter a number: \"))\n",
    "\n",
    "for i in range(1, (base + 1)) :\n",
    "#    draw_triangle(i)\n",
    "    print(draw_triangle(i))\n"
   ]
  },
  {
   "cell_type": "code",
   "execution_count": null,
   "metadata": {},
   "outputs": [],
   "source": []
  }
 ],
 "metadata": {
  "kernelspec": {
   "display_name": "Python 3",
   "language": "python",
   "name": "python3"
  },
  "language_info": {
   "codemirror_mode": {
    "name": "ipython",
    "version": 3
   },
   "file_extension": ".py",
   "mimetype": "text/x-python",
   "name": "python",
   "nbconvert_exporter": "python",
   "pygments_lexer": "ipython3",
   "version": "3.8.8"
  }
 },
 "nbformat": 4,
 "nbformat_minor": 4
}
